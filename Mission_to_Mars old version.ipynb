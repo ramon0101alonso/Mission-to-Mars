{
 "cells": [
  {
   "cell_type": "code",
   "execution_count": 29,
   "id": "37ed34a9",
   "metadata": {},
   "outputs": [],
   "source": [
    "# Import Splinter and BeautifulSoup\n",
    "from splinter import Browser\n",
    "from bs4 import BeautifulSoup as soup\n",
    "from webdriver_manager.chrome import ChromeDriverManager\n",
    "#module 10.3.5\n",
    "import pandas as pd"
   ]
  },
  {
   "cell_type": "code",
   "execution_count": 30,
   "id": "8e663c8e",
   "metadata": {},
   "outputs": [],
   "source": [
    "executable_path = {'executable_path': ChromeDriverManager().install()}\n",
    "browser = Browser('chrome', **executable_path, headless=False)"
   ]
  },
  {
   "cell_type": "code",
   "execution_count": 31,
   "id": "fe879ccb",
   "metadata": {},
   "outputs": [],
   "source": [
    "#refractured code in module 10.5.2\n",
    "#browser python knows to use the variable outside the function\n",
    "# Visit the mars nasa news site\n",
    "def mars_news(browser):\n",
    "    url = 'https://redplanetscience.com'\n",
    "    browser.visit(url)\n",
    "\n",
    "#searching for elements with a specific combination of tag div and attribute list_text\n",
    "#time.sleep(1) pass seconds you want 1 seconds  the own line this line is first\n",
    "    browser.is_element_present_by_css('div.list_text', wait_time=1)"
   ]
  },
  {
   "cell_type": "code",
   "execution_count": 32,
   "id": "aaebe657",
   "metadata": {},
   "outputs": [
    {
     "ename": "IndentationError",
     "evalue": "unexpected indent (2555807322.py, line 2)",
     "output_type": "error",
     "traceback": [
      "\u001b[0;36m  File \u001b[0;32m\"/var/folders/t_/dft9_2ys0xv3xw671yf0l4q80000gn/T/ipykernel_4856/2555807322.py\"\u001b[0;36m, line \u001b[0;32m2\u001b[0m\n\u001b[0;31m    html = browser.html\u001b[0m\n\u001b[0m    ^\u001b[0m\n\u001b[0;31mIndentationError\u001b[0m\u001b[0;31m:\u001b[0m unexpected indent\n"
     ]
    }
   ],
   "source": [
    "#why are there two searches for the same thing div list_text???????????\n",
    "    html = browser.html\n",
    "    news_soup = soup(html, 'html.parser')"
   ]
  },
  {
   "cell_type": "code",
   "execution_count": 33,
   "id": "0720390c",
   "metadata": {},
   "outputs": [
    {
     "ename": "SyntaxError",
     "evalue": "unexpected EOF while parsing (4170234935.py, line 8)",
     "output_type": "error",
     "traceback": [
      "\u001b[0;36m  File \u001b[0;32m\"/var/folders/t_/dft9_2ys0xv3xw671yf0l4q80000gn/T/ipykernel_4856/4170234935.py\"\u001b[0;36m, line \u001b[0;32m8\u001b[0m\n\u001b[0;31m    news_p = slide_elem.find('div', class_='article_teaser_body').get_text()\u001b[0m\n\u001b[0m                                                                            ^\u001b[0m\n\u001b[0;31mSyntaxError\u001b[0m\u001b[0;31m:\u001b[0m unexpected EOF while parsing\n"
     ]
    }
   ],
   "source": [
    "    #refractured code in module 10.5.2\n",
    "    # Add try/except for error handling\n",
    "    try:\n",
    "        slide_elem = news_soup.select_one('div.list_text')\n",
    "        # Use the parent element to find the first 'a' tag and save it as 'news_title'\n",
    "        news_title = slide_elem.find('div', class_='content_title').get_text()\n",
    "        # Use the parent element to find the paragraph text\n",
    "        news_p = slide_elem.find('div', class_='article_teaser_body').get_text()"
   ]
  },
  {
   "cell_type": "code",
   "execution_count": 34,
   "id": "fdbecf4e",
   "metadata": {},
   "outputs": [
    {
     "ename": "SyntaxError",
     "evalue": "invalid syntax (2427369238.py, line 1)",
     "output_type": "error",
     "traceback": [
      "\u001b[0;36m  File \u001b[0;32m\"/var/folders/t_/dft9_2ys0xv3xw671yf0l4q80000gn/T/ipykernel_4856/2427369238.py\"\u001b[0;36m, line \u001b[0;32m1\u001b[0m\n\u001b[0;31m    except AttributeError:\u001b[0m\n\u001b[0m         ^\u001b[0m\n\u001b[0;31mSyntaxError\u001b[0m\u001b[0;31m:\u001b[0m invalid syntax\n"
     ]
    }
   ],
   "source": [
    "    except AttributeError:\n",
    "        return None, None"
   ]
  },
  {
   "cell_type": "code",
   "execution_count": 35,
   "id": "7fc85d54",
   "metadata": {},
   "outputs": [],
   "source": [
    "# commented out for refractured code in module 10.5.2\n",
    "#slide_elem.find('div', class_='content_title')"
   ]
  },
  {
   "cell_type": "code",
   "execution_count": 36,
   "id": "972d529b",
   "metadata": {},
   "outputs": [],
   "source": [
    "#we are looking for the title of the article\n",
    "# Use the parent element to find the first `a` tag and save it as `news_title`\n",
    "#adding get_text, returns only the the text of the element\n",
    "    #commented out for refracute code in module 10.5.2\n",
    "    #news_title = slide_elem.find('div', class_='content_title').get_text()\n",
    "    #news_title"
   ]
  },
  {
   "cell_type": "code",
   "execution_count": 37,
   "id": "571c703b",
   "metadata": {},
   "outputs": [],
   "source": [
    "# Use the parent element to find the paragraph text\n",
    "    #commented out for refractured code in module 10.5.2\n",
    "    #news_p = slide_elem.find('div', class_='article_teaser_body').get_text()\n",
    "    #news_p"
   ]
  },
  {
   "cell_type": "code",
   "execution_count": 38,
   "id": "4d38fddf",
   "metadata": {},
   "outputs": [
    {
     "ename": "SyntaxError",
     "evalue": "'return' outside function (2346092315.py, line 2)",
     "output_type": "error",
     "traceback": [
      "\u001b[0;36m  File \u001b[0;32m\"/var/folders/t_/dft9_2ys0xv3xw671yf0l4q80000gn/T/ipykernel_4856/2346092315.py\"\u001b[0;36m, line \u001b[0;32m2\u001b[0m\n\u001b[0;31m    return news_title, news_p\u001b[0m\n\u001b[0m                             ^\u001b[0m\n\u001b[0;31mSyntaxError\u001b[0m\u001b[0;31m:\u001b[0m 'return' outside function\n"
     ]
    }
   ],
   "source": [
    "    #refractured code in module 10.5.2\n",
    "    return news_title, news_p"
   ]
  },
  {
   "cell_type": "markdown",
   "id": "e2b75552",
   "metadata": {},
   "source": [
    "#module 10.3.4 go to Markdown below widgets to change back to Code\n",
    "### Featured Images"
   ]
  },
  {
   "cell_type": "code",
   "execution_count": 39,
   "id": "d185ee47",
   "metadata": {},
   "outputs": [
    {
     "ename": "SyntaxError",
     "evalue": "invalid syntax (830474956.py, line 3)",
     "output_type": "error",
     "traceback": [
      "\u001b[0;36m  File \u001b[0;32m\"/var/folders/t_/dft9_2ys0xv3xw671yf0l4q80000gn/T/ipykernel_4856/830474956.py\"\u001b[0;36m, line \u001b[0;32m3\u001b[0m\n\u001b[0;31m    def featured_image(browser)\u001b[0m\n\u001b[0m                               ^\u001b[0m\n\u001b[0;31mSyntaxError\u001b[0m\u001b[0;31m:\u001b[0m invalid syntax\n"
     ]
    }
   ],
   "source": [
    "# Visit URL so we can start searching for images\n",
    "#refractured code in module 10.5.2 browser\n",
    "def featured_image(browser)\n",
    "    url = 'https://spaceimages-mars.com'\n",
    "    browser.visit(url)"
   ]
  },
  {
   "cell_type": "code",
   "execution_count": 40,
   "id": "af6e3c32",
   "metadata": {},
   "outputs": [
    {
     "ename": "IndentationError",
     "evalue": "unexpected indent (1899152004.py, line 2)",
     "output_type": "error",
     "traceback": [
      "\u001b[0;36m  File \u001b[0;32m\"/var/folders/t_/dft9_2ys0xv3xw671yf0l4q80000gn/T/ipykernel_4856/1899152004.py\"\u001b[0;36m, line \u001b[0;32m2\u001b[0m\n\u001b[0;31m    full_image_elem = browser.find_by_tag('button')[1]\u001b[0m\n\u001b[0m    ^\u001b[0m\n\u001b[0;31mIndentationError\u001b[0m\u001b[0;31m:\u001b[0m unexpected indent\n"
     ]
    }
   ],
   "source": [
    "# Find and click the full image button we do this because theres less than 3 buttons and index 1 gives us the second pic\n",
    "    full_image_elem = browser.find_by_tag('button')[1]\n",
    "    full_image_elem.click()"
   ]
  },
  {
   "cell_type": "code",
   "execution_count": 41,
   "id": "195df69e",
   "metadata": {},
   "outputs": [
    {
     "ename": "IndentationError",
     "evalue": "unexpected indent (356207432.py, line 3)",
     "output_type": "error",
     "traceback": [
      "\u001b[0;36m  File \u001b[0;32m\"/var/folders/t_/dft9_2ys0xv3xw671yf0l4q80000gn/T/ipykernel_4856/356207432.py\"\u001b[0;36m, line \u001b[0;32m3\u001b[0m\n\u001b[0;31m    html = browser.html\u001b[0m\n\u001b[0m    ^\u001b[0m\n\u001b[0;31mIndentationError\u001b[0m\u001b[0;31m:\u001b[0m unexpected indent\n"
     ]
    }
   ],
   "source": [
    "#looking for the full image after we pressed the full image button and choose index 1 pic\n",
    "# Parse the resulting html with soup\n",
    "    html = browser.html\n",
    "    img_soup = soup(html, 'html.parser')"
   ]
  },
  {
   "cell_type": "code",
   "execution_count": 42,
   "id": "27bb630c",
   "metadata": {},
   "outputs": [
    {
     "ename": "IndentationError",
     "evalue": "unexpected indent (3331693937.py, line 4)",
     "output_type": "error",
     "traceback": [
      "\u001b[0;36m  File \u001b[0;32m\"/var/folders/t_/dft9_2ys0xv3xw671yf0l4q80000gn/T/ipykernel_4856/3331693937.py\"\u001b[0;36m, line \u001b[0;32m4\u001b[0m\n\u001b[0;31m    try:\u001b[0m\n\u001b[0m    ^\u001b[0m\n\u001b[0;31mIndentationError\u001b[0m\u001b[0;31m:\u001b[0m unexpected indent\n"
     ]
    }
   ],
   "source": [
    "#we are telling beautifulsoup to look inside the img tag with a class of fancybox.  Here is where the pic lives\n",
    "# Find the relative image url\n",
    "#refractured code in module 10.5.2 commented out img_url_rel\n",
    "    try:\n",
    "        img_url_rel = img_soup.find('img', class_='fancybox-image').get('src')\n",
    "        #img_url_rel"
   ]
  },
  {
   "cell_type": "code",
   "execution_count": 43,
   "id": "ba0e9231",
   "metadata": {},
   "outputs": [
    {
     "ename": "IndentationError",
     "evalue": "unexpected indent (3310544461.py, line 4)",
     "output_type": "error",
     "traceback": [
      "\u001b[0;36m  File \u001b[0;32m\"/var/folders/t_/dft9_2ys0xv3xw671yf0l4q80000gn/T/ipykernel_4856/3310544461.py\"\u001b[0;36m, line \u001b[0;32m4\u001b[0m\n\u001b[0;31m    except AttributeError:\u001b[0m\n\u001b[0m    ^\u001b[0m\n\u001b[0;31mIndentationError\u001b[0m\u001b[0;31m:\u001b[0m unexpected indent\n"
     ]
    }
   ],
   "source": [
    "#after getting the img_url_rel (this pic will always change but the route is the same) add the url to get latest pic\n",
    "# Use the base URL to create an absolute URL\n",
    "#refracture code in Module 10.5.2\n",
    "    except AttributeError:\n",
    "        return None\n",
    "    \n",
    "    img_url = f'https://spaceimages-mars.com/{img_url_rel}'\n",
    "    \n",
    "    return img_url\n"
   ]
  },
  {
   "cell_type": "code",
   "execution_count": 44,
   "id": "0dc1af39",
   "metadata": {},
   "outputs": [
    {
     "ename": "SyntaxError",
     "evalue": "unexpected EOF while parsing (2918884818.py, line 5)",
     "output_type": "error",
     "traceback": [
      "\u001b[0;36m  File \u001b[0;32m\"/var/folders/t_/dft9_2ys0xv3xw671yf0l4q80000gn/T/ipykernel_4856/2918884818.py\"\u001b[0;36m, line \u001b[0;32m5\u001b[0m\n\u001b[0;31m    \u001b[0m\n\u001b[0m    ^\u001b[0m\n\u001b[0;31mSyntaxError\u001b[0m\u001b[0;31m:\u001b[0m unexpected EOF while parsing\n"
     ]
    }
   ],
   "source": [
    "#refractured code from module 10.5.2\n",
    "def mars_facts():\n",
    "    # Add try/except for error handling\n",
    "    try:\n",
    "\n"
   ]
  },
  {
   "cell_type": "code",
   "execution_count": 46,
   "id": "46ce605e",
   "metadata": {
    "scrolled": true
   },
   "outputs": [
    {
     "ename": "IndentationError",
     "evalue": "unindent does not match any outer indentation level (<tokenize>, line 5)",
     "output_type": "error",
     "traceback": [
      "\u001b[0;36m  File \u001b[0;32m\"<tokenize>\"\u001b[0;36m, line \u001b[0;32m5\u001b[0m\n\u001b[0;31m    except BaseException:\u001b[0m\n\u001b[0m    ^\u001b[0m\n\u001b[0;31mIndentationError\u001b[0m\u001b[0;31m:\u001b[0m unindent does not match any outer indentation level\n"
     ]
    }
   ],
   "source": [
    "#module 10.3.5\n",
    "#refractured code return from module 10.5.2\n",
    "#create a new df with pandas function read_html, looks for all tables and gives them an index 0 is the first table\n",
    "        df = pd.read_html('https://galaxyfacts-mars.com')[0]\n",
    "    except BaseException:\n",
    "        return None\n",
    "    \n",
    "#adding columns\n",
    "    df.columns=['description', 'Mars', 'Earth']\n",
    "#set_index makes the description column into the df's index inplace=true wont create a new table \n",
    "    df.set_index('description', inplace=True)\n",
    "    return df.to_html()"
   ]
  },
  {
   "cell_type": "code",
   "execution_count": 47,
   "id": "0e0059b8",
   "metadata": {},
   "outputs": [
    {
     "ename": "NameError",
     "evalue": "name 'df' is not defined",
     "output_type": "error",
     "traceback": [
      "\u001b[0;31m---------------------------------------------------------------------------\u001b[0m",
      "\u001b[0;31mNameError\u001b[0m                                 Traceback (most recent call last)",
      "\u001b[0;32m/var/folders/t_/dft9_2ys0xv3xw671yf0l4q80000gn/T/ipykernel_4856/4080842930.py\u001b[0m in \u001b[0;36m<module>\u001b[0;34m\u001b[0m\n\u001b[1;32m      1\u001b[0m \u001b[0;31m#now we take this df and convert it back into HTML with .to_html()\u001b[0m\u001b[0;34m\u001b[0m\u001b[0;34m\u001b[0m\u001b[0;34m\u001b[0m\u001b[0m\n\u001b[0;32m----> 2\u001b[0;31m \u001b[0mdf\u001b[0m\u001b[0;34m.\u001b[0m\u001b[0mto_html\u001b[0m\u001b[0;34m(\u001b[0m\u001b[0;34m)\u001b[0m\u001b[0;34m\u001b[0m\u001b[0;34m\u001b[0m\u001b[0m\n\u001b[0m",
      "\u001b[0;31mNameError\u001b[0m: name 'df' is not defined"
     ]
    }
   ],
   "source": [
    "#now we take this df and convert it back into HTML with .to_html()\n",
    "df.to_html()"
   ]
  },
  {
   "cell_type": "code",
   "execution_count": 48,
   "id": "5a438fcb",
   "metadata": {},
   "outputs": [],
   "source": [
    "browser.quit()"
   ]
  },
  {
   "cell_type": "code",
   "execution_count": null,
   "id": "9be461d4",
   "metadata": {},
   "outputs": [],
   "source": []
  }
 ],
 "metadata": {
  "kernelspec": {
   "display_name": "PythonData",
   "language": "python",
   "name": "pythondata"
  },
  "language_info": {
   "codemirror_mode": {
    "name": "ipython",
    "version": 3
   },
   "file_extension": ".py",
   "mimetype": "text/x-python",
   "name": "python",
   "nbconvert_exporter": "python",
   "pygments_lexer": "ipython3",
   "version": "3.7.13"
  }
 },
 "nbformat": 4,
 "nbformat_minor": 5
}
